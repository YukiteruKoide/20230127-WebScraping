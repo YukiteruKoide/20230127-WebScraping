{
 "cells": [
  {
   "cell_type": "code",
   "execution_count": null,
   "id": "8e3e89e2",
   "metadata": {},
   "outputs": [
    {
     "name": "stdout",
     "output_type": "stream",
     "text": [
      "Requirement already satisfied: requests in /Users/koideyukiteru/opt/anaconda3/lib/python3.9/site-packages (2.28.1)\n",
      "Requirement already satisfied: idna<4,>=2.5 in /Users/koideyukiteru/opt/anaconda3/lib/python3.9/site-packages (from requests) (3.3)\n",
      "Requirement already satisfied: urllib3<1.27,>=1.21.1 in /Users/koideyukiteru/opt/anaconda3/lib/python3.9/site-packages (from requests) (1.26.11)\n",
      "Requirement already satisfied: charset-normalizer<3,>=2 in /Users/koideyukiteru/opt/anaconda3/lib/python3.9/site-packages (from requests) (2.0.4)\n",
      "Requirement already satisfied: certifi>=2017.4.17 in /Users/koideyukiteru/opt/anaconda3/lib/python3.9/site-packages (from requests) (2022.9.24)\n"
     ]
    }
   ],
   "source": [
    "pip install requests"
   ]
  },
  {
   "cell_type": "code",
   "execution_count": null,
   "id": "1d75f00b",
   "metadata": {},
   "outputs": [],
   "source": [
    "#ライブラリのインポート\n",
    "from time import sleep\n",
    "import requests\n",
    "from bs4 import BeautifulSoup\n",
    "import pandas as pd"
   ]
  },
  {
   "cell_type": "code",
   "execution_count": null,
   "id": "52aee2ac",
   "metadata": {},
   "outputs": [],
   "source": [
    "# 変数urlにスクレイピングしたいURLを格納する\n",
    "url = 'https://doga.hikakujoho.com/netflix/anime/?page={}'\n",
    "\n",
    "#変数outputに空のリストを作成する\n",
    "output = []\n",
    "\n",
    "#現在のurlを表示\n",
    "print(url)"
   ]
  },
  {
   "cell_type": "code",
   "execution_count": null,
   "id": "f2c717b8",
   "metadata": {},
   "outputs": [],
   "source": [
    "#ループさせる\n",
    "for i in range(1,13):\n",
    "    \n",
    "    #ループさせるために、target_urlの作成\n",
    "    target_url = url.format(i)\n",
    "\n",
    "    #dlistの長さを確認\n",
    "    print(\"outputの大きさ:\",len(output))\n",
    "    \n",
    "    #print()をしてtarget_urlを確かめる\n",
    "    print(target_url)\n",
    " \n",
    "\n",
    "    ##ここから実装が必要\n",
    "    #ループさせるために、target_urlの作成\n",
    "\n",
    "    #HTMLを取得\n",
    "    res = requests.get(target_url)\n",
    "    \n",
    "    #スリープの実装\n",
    "    sleep(2)\n",
    "\n",
    "    #取得したHTMLを'BeautifulSoup'で解析\n",
    "    soup = BeautifulSoup(res.text, 'html.parser')\n",
    "\n",
    "    list_show_update = soup.find('ul',class_='list_show_update')\n",
    "\n",
    "    span_tag = list_show_update.find_all('span',class_='fwb')\n",
    "\n",
    "    span_strings = [x.string for x in span_tag]\n",
    "\n",
    "    output.append(span_strings)\n",
    "    \n",
    "    print(output)\n",
    "    "
   ]
  },
  {
   "cell_type": "code",
   "execution_count": null,
   "id": "26f800bc",
   "metadata": {},
   "outputs": [],
   "source": [
    "output[:2]"
   ]
  },
  {
   "cell_type": "code",
   "execution_count": null,
   "id": "5de674c4",
   "metadata": {},
   "outputs": [],
   "source": [
    "##データフレームを作成する\n",
    "df=pd.DataFrame(output)\n",
    "\n",
    "#中身の確認\n",
    "df.head()"
   ]
  },
  {
   "cell_type": "code",
   "execution_count": null,
   "id": "81ef69a3",
   "metadata": {},
   "outputs": [],
   "source": [
    "##to_csvを使用してcsv出力する\n",
    "df.to_csv('NETFLIX_アニメ.csv' ,encoding = 'utf-8-sig')"
   ]
  },
  {
   "cell_type": "code",
   "execution_count": null,
   "id": "4fc0fe56",
   "metadata": {},
   "outputs": [],
   "source": []
  },
  {
   "cell_type": "code",
   "execution_count": null,
   "id": "fd345b5a",
   "metadata": {},
   "outputs": [],
   "source": []
  }
 ],
 "metadata": {
  "kernelspec": {
   "display_name": "Python 3 (ipykernel)",
   "language": "python",
   "name": "python3"
  },
  "language_info": {
   "codemirror_mode": {
    "name": "ipython",
    "version": 3
   },
   "file_extension": ".py",
   "mimetype": "text/x-python",
   "name": "python",
   "nbconvert_exporter": "python",
   "pygments_lexer": "ipython3",
   "version": "3.9.13"
  }
 },
 "nbformat": 4,
 "nbformat_minor": 5
}
