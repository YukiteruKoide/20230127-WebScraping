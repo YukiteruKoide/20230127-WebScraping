{
 "cells": [
  {
   "cell_type": "code",
   "execution_count": 1,
   "id": "969bdebd",
   "metadata": {},
   "outputs": [
    {
     "name": "stdout",
     "output_type": "stream",
     "text": [
      "Collecting selenium==3.141.0\n",
      "  Downloading selenium-3.141.0-py2.py3-none-any.whl (904 kB)\n",
      "\u001b[2K     \u001b[90m━━━━━━━━━━━━━━━━━━━━━━━━━━━━━━━━━━━━━━━\u001b[0m \u001b[32m904.6/904.6 kB\u001b[0m \u001b[31m8.4 MB/s\u001b[0m eta \u001b[36m0:00:00\u001b[0ma \u001b[36m0:00:01\u001b[0m\n",
      "\u001b[?25hRequirement already satisfied: urllib3 in /Users/koideyukiteru/opt/anaconda3/lib/python3.9/site-packages (from selenium==3.141.0) (1.26.11)\n",
      "Installing collected packages: selenium\n",
      "Successfully installed selenium-3.141.0\n",
      "Note: you may need to restart the kernel to use updated packages.\n"
     ]
    }
   ],
   "source": [
    "pip install selenium==3.141.0"
   ]
  },
  {
   "cell_type": "code",
   "execution_count": 9,
   "id": "327b6e24",
   "metadata": {},
   "outputs": [],
   "source": [
    "import time                            # スリープを使うために必要\n",
    "from selenium import webdriver         # Webブラウザを自動操作する（python -m pip install selenium)"
   ]
  },
  {
   "cell_type": "code",
   "execution_count": 19,
   "id": "e4e24b5e",
   "metadata": {},
   "outputs": [
    {
     "name": "stdout",
     "output_type": "stream",
     "text": [
      "Collecting chromedriver-binary==109.0.5414.74.0\n",
      "  Downloading chromedriver-binary-109.0.5414.74.0.tar.gz (5.1 kB)\n",
      "  Preparing metadata (setup.py) ... \u001b[?25ldone\n",
      "\u001b[?25hBuilding wheels for collected packages: chromedriver-binary\n",
      "  Building wheel for chromedriver-binary (setup.py) ... \u001b[?25ldone\n",
      "\u001b[?25h  Created wheel for chromedriver-binary: filename=chromedriver_binary-109.0.5414.74.0-py3-none-any.whl size=9100049 sha256=b5e92dd317eb832c38afbd28efde834b97e78a2b30502cda941e143cd856a101\n",
      "  Stored in directory: /Users/koideyukiteru/Library/Caches/pip/wheels/76/12/7d/59a00325f84164e2e6aace9289886616da32e48fa2ffddc4a4\n",
      "Successfully built chromedriver-binary\n",
      "Installing collected packages: chromedriver-binary\n",
      "  Attempting uninstall: chromedriver-binary\n",
      "    Found existing installation: chromedriver-binary 110.0.5481.30.0\n",
      "    Uninstalling chromedriver-binary-110.0.5481.30.0:\n",
      "      Successfully uninstalled chromedriver-binary-110.0.5481.30.0\n",
      "Successfully installed chromedriver-binary-109.0.5414.74.0\n",
      "Note: you may need to restart the kernel to use updated packages.\n"
     ]
    }
   ],
   "source": [
    "pip install chromedriver-binary==109.0.5414.74.0"
   ]
  },
  {
   "cell_type": "code",
   "execution_count": 20,
   "id": "ae4ee9f1",
   "metadata": {},
   "outputs": [],
   "source": [
    "import chromedriver_binary "
   ]
  },
  {
   "cell_type": "code",
   "execution_count": 22,
   "id": "d4498d4a",
   "metadata": {},
   "outputs": [],
   "source": [
    "driver = webdriver.Chrome()            # Chromeを準備\n",
    "driver.get('https://www.google.com/')  # Googleを開く\n",
    "time.sleep(5)                          # 5秒間待機\n",
    "driver.quit()       "
   ]
  },
  {
   "cell_type": "code",
   "execution_count": 25,
   "id": "24d0bb1c",
   "metadata": {},
   "outputs": [],
   "source": [
    "#ここからNETFLIXのスクレイピングのコード\n",
    "#インポート\n",
    "import os\n",
    "import re\n",
    "from time import sleep, time\n",
    "import csv\n",
    "from selenium import webdriver\n",
    "from selenium.webdriver.chrome.service import Service\n",
    "from selenium.webdriver.common.by import By\n",
    "from tqdm import tqdm\n"
   ]
  },
  {
   "cell_type": "code",
   "execution_count": null,
   "id": "e8d4b667",
   "metadata": {},
   "outputs": [],
   "source": [
    "\n",
    "CONNECTION_RETRY = 5\n",
    "\n",
    "class ScrapMovie():\n",
    "  def __init__(self, path):\n",
    "    self.driver = webdriver.Chrome(service=Service('./chromedriver'))\n",
    "    self.driver.get(path)\n",
    "  \n",
    "  def task_with_retry(self, elem):\n",
    "    for i in range(1, CONNECTION_RETRY + 1):\n",
    "      try:\n",
    "        result = elem.get_attribute(('src'))\n",
    "      except Exception as e:\n",
    "        print(\"error:{e} retry:{i}/{max}\".format(e=e, i=i, max=CONNECTION_RETRY))\n",
    "        sleep(3)\n",
    "      else:\n",
    "        return result\n",
    "    return False\n",
    "  \n",
    "  def select_item(self):\n",
    "    movie_elems = self.driver.find_elements(by=By.CLASS_NAME, value=\"title-list-grid__item\")\n",
    "    movie_length = len(movie_elems)\n",
    "    movie_path_list = []\n",
    "    i = 0\n",
    "    \n",
    "    # get movie title list\n",
    "    while True:\n",
    "      movie_item = movie_elems[i]\n",
    "      movie_item = movie_item.find_element(by=By.CLASS_NAME, value=\"title-list-grid__item--link\")\n",
    "      page_path = movie_item.get_attribute(('href'))\n",
    "      movie_path_list.append(page_path)\n",
    "      \n",
    "      i += 1\n",
    "      print(i, '/', movie_length)\n",
    "      if movie_length == i:\n",
    "        self.page_scroll_by_offset(movie_item)\n",
    "        movie_elems = self.driver.find_elements(by=By.CLASS_NAME, value=\"title-list-grid__item\")\n",
    "        movie_length = len(movie_elems)\n",
    "        \n",
    "        # 全ての映画をリストに入れたら終了\n",
    "        if movie_length == i:\n",
    "          break\n",
    "    return movie_path_list\n",
    "      \n",
    "  def page_scroll_by_offset(self, element):\n",
    "    self.driver.execute_script(\"arguments[0].scrollIntoView();\", element)\n",
    "    script = \"window.scrollTo(0, window.pageYOffset + \" + str(-100) + \");\"\n",
    "    self.driver.execute_script(script)\n",
    "    sleep(7)\n",
    "    \n",
    "  def get_movie_details(self, path):\n",
    "    self.driver.get(path)\n",
    "    sleep(3) #読み込み安定\n",
    "    \n",
    "    try:\n",
    "      # basepath\n",
    "      basename = os.path.basename(path)\n",
    "      # imgpath\n",
    "      img_elems = self.driver.find_elements(by=By.CSS_SELECTOR, value=\".picture-comp__img.lazyautosizes.ls-is-cached.lazyloaded\")\n",
    "      img_path = self.task_with_retry(img_elems[0])\n",
    "      # title, year\n",
    "      title_elems = self.driver.find_elements(by=By.CLASS_NAME, value=\"title-block\")\n",
    "      title_and_year = title_elems[0].text.rsplit(' ', 1)\n",
    "      title = title_and_year[0]\n",
    "      year = re.sub(r\"\\D\", \"\", title_and_year[1])\n",
    "      # details\n",
    "      detail_elems = self.driver.find_elements(by=By.CLASS_NAME, value=\"detail-infos__value\")\n",
    "      rate_watch = detail_elems[0].text\n",
    "      category = detail_elems[1].text\n",
    "      time = detail_elems[2].text\n",
    "      director = detail_elems[3].text\n",
    "      # abst\n",
    "      abst_elems = self.driver.find_elements(by=By.CSS_SELECTOR, value=\".text-wrap-pre-line.mt-0\")\n",
    "      abst = abst_elems[0].text\n",
    "      \n",
    "      self.save_to_csv(basename, title, year, img_path, rate_watch, category, time, director, abst)\n",
    "    except:\n",
    "      print(path)\n",
    "\n",
    "  def save_to_csv(self, basename, title, year, \n",
    "                  img_path, rate_watch, category, time, director, abst):\n",
    "    savepath = './film.csv'\n",
    "    if not os.path.exists(savepath):\n",
    "      with open(savepath, 'w', newline='') as f:\n",
    "        writer = csv.writer(f, delimiter=',', quotechar='\"', quoting=csv.QUOTE_ALL)\n",
    "        writer.writerow(['uid', 'title', 'year', 'image_path', 'rate', 'categories', 'time', 'director', 'abst'])\n",
    "        writer.writerow([basename, title, year, img_path, rate_watch, category, time, director, abst])\n",
    "      \n",
    "    else:\n",
    "      with open(savepath, 'a', newline='') as f:\n",
    "        writer = csv.writer(f, delimiter=',', quotechar='\"', quoting=csv.QUOTE_ALL)\n",
    "        writer.writerow([basename, title, year, img_path, rate_watch, category, time, director, abst])\n",
    "      \n",
    "    \n",
    "if __name__ == '__main__':\n",
    "  main_path = 'https://www.justwatch.com/jp/%E5%8B%95%E7%94%BB%E9%85%8D%E4%BF%A1%E3%82%B5%E3%83%BC%E3%83%93%E3%82%B9/netflix?content_type=movie'\n",
    "  scrap_movie = ScrapMovie(main_path)\n",
    "  movie_paths = scrap_movie.select_item()\n",
    "  \n",
    "  for movie_path in tqdm(movie_paths):\n",
    "    scrap_movie.get_movie_details(movie_path)"
   ]
  }
 ],
 "metadata": {
  "kernelspec": {
   "display_name": "Python 3 (ipykernel)",
   "language": "python",
   "name": "python3"
  },
  "language_info": {
   "codemirror_mode": {
    "name": "ipython",
    "version": 3
   },
   "file_extension": ".py",
   "mimetype": "text/x-python",
   "name": "python",
   "nbconvert_exporter": "python",
   "pygments_lexer": "ipython3",
   "version": "3.9.13"
  }
 },
 "nbformat": 4,
 "nbformat_minor": 5
}
