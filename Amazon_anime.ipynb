{
 "cells": [
  {
   "cell_type": "code",
   "execution_count": 1,
   "id": "1a6bdc1c",
   "metadata": {},
   "outputs": [
    {
     "name": "stdout",
     "output_type": "stream",
     "text": [
      "Requirement already satisfied: requests in /Users/koideyukiteru/opt/anaconda3/lib/python3.9/site-packages (2.28.1)\n",
      "Requirement already satisfied: idna<4,>=2.5 in /Users/koideyukiteru/opt/anaconda3/lib/python3.9/site-packages (from requests) (3.3)\n",
      "Requirement already satisfied: urllib3<1.27,>=1.21.1 in /Users/koideyukiteru/opt/anaconda3/lib/python3.9/site-packages (from requests) (1.26.11)\n",
      "Requirement already satisfied: charset-normalizer<3,>=2 in /Users/koideyukiteru/opt/anaconda3/lib/python3.9/site-packages (from requests) (2.0.4)\n",
      "Requirement already satisfied: certifi>=2017.4.17 in /Users/koideyukiteru/opt/anaconda3/lib/python3.9/site-packages (from requests) (2022.9.24)\n",
      "Note: you may need to restart the kernel to use updated packages.\n"
     ]
    }
   ],
   "source": [
    "pip install requests"
   ]
  },
  {
   "cell_type": "code",
   "execution_count": 2,
   "id": "e3913e3f",
   "metadata": {},
   "outputs": [],
   "source": [
    "#ライブラリのインポート\n",
    "from time import sleep\n",
    "import requests\n",
    "from bs4 import BeautifulSoup\n",
    "import pandas as pd"
   ]
  },
  {
   "cell_type": "code",
   "execution_count": 3,
   "id": "1a16193e",
   "metadata": {},
   "outputs": [],
   "source": [
    "# 変数urlにスクレイピングしたいURLを格納する\n",
    "url = 'https://doga.hikakujoho.com/amazon/anime/?page={}'\n",
    "\n",
    "#変数outputに空のリストを作成する\n",
    "output = []\n",
    "\n",
    "#現在のurlを表示\n",
    "#print(url)"
   ]
  },
  {
   "cell_type": "code",
   "execution_count": 4,
   "id": "dc53db20",
   "metadata": {},
   "outputs": [
    {
     "name": "stdout",
     "output_type": "stream",
     "text": [
      "https://doga.hikakujoho.com/amazon/anime/?page=1\n",
      "https://doga.hikakujoho.com/amazon/anime/?page=2\n",
      "https://doga.hikakujoho.com/amazon/anime/?page=3\n",
      "https://doga.hikakujoho.com/amazon/anime/?page=4\n",
      "https://doga.hikakujoho.com/amazon/anime/?page=5\n",
      "https://doga.hikakujoho.com/amazon/anime/?page=6\n",
      "https://doga.hikakujoho.com/amazon/anime/?page=7\n",
      "https://doga.hikakujoho.com/amazon/anime/?page=8\n",
      "https://doga.hikakujoho.com/amazon/anime/?page=9\n",
      "https://doga.hikakujoho.com/amazon/anime/?page=10\n",
      "https://doga.hikakujoho.com/amazon/anime/?page=11\n",
      "https://doga.hikakujoho.com/amazon/anime/?page=12\n",
      "https://doga.hikakujoho.com/amazon/anime/?page=13\n",
      "https://doga.hikakujoho.com/amazon/anime/?page=14\n",
      "https://doga.hikakujoho.com/amazon/anime/?page=15\n",
      "https://doga.hikakujoho.com/amazon/anime/?page=16\n",
      "https://doga.hikakujoho.com/amazon/anime/?page=17\n"
     ]
    }
   ],
   "source": [
    "#ループさせる\n",
    "for i in range(1,18):\n",
    "    \n",
    "    #ループさせるために、target_urlの作成\n",
    "    target_url = url.format(i)\n",
    "\n",
    "    #dlistの長さを確認\n",
    "   # print(\"outputの大きさ:\",len(output))\n",
    "    \n",
    "    #print()をしてtarget_urlを確かめる\n",
    "    print(target_url)\n",
    " \n",
    "\n",
    "    ##ここから実装が必要\n",
    "    #ループさせるために、target_urlの作成\n",
    "\n",
    "    #HTMLを取得\n",
    "    res = requests.get(target_url)\n",
    "    \n",
    "    #スリープの実装\n",
    "    sleep(2)\n",
    "\n",
    "    #取得したHTMLを'BeautifulSoup'で解析\n",
    "    soup = BeautifulSoup(res.text, 'html.parser')\n",
    "\n",
    "    list_show_update = soup.find('ul',class_='list_show_update')\n",
    "\n",
    "    span_tag = list_show_update.find_all('span',class_='fwb')\n",
    "\n",
    "    span_strings = [x.string for x in span_tag]\n",
    "\n",
    "    output.append(span_strings)\n",
    "    \n",
    "    #print(output)\n",
    "    "
   ]
  },
  {
   "cell_type": "code",
   "execution_count": 5,
   "id": "ed3886c6",
   "metadata": {},
   "outputs": [],
   "source": [
    "#output[:2]"
   ]
  },
  {
   "cell_type": "code",
   "execution_count": 6,
   "id": "c516188f",
   "metadata": {},
   "outputs": [],
   "source": [
    "##データフレームを作成する\n",
    "df=pd.DataFrame(output)\n",
    "\n",
    "#中身の確認\n",
    "#df.head()"
   ]
  },
  {
   "cell_type": "code",
   "execution_count": 7,
   "id": "39c786a0",
   "metadata": {},
   "outputs": [],
   "source": [
    "##to_csvを使用してcsv出力する\n",
    "df.to_csv('Amazon_アニメ.csv' ,encoding = 'utf-8-sig')"
   ]
  },
  {
   "cell_type": "code",
   "execution_count": null,
   "id": "d058b227",
   "metadata": {},
   "outputs": [],
   "source": []
  },
  {
   "cell_type": "code",
   "execution_count": null,
   "id": "d0387394",
   "metadata": {},
   "outputs": [],
   "source": []
  }
 ],
 "metadata": {
  "kernelspec": {
   "display_name": "Python 3 (ipykernel)",
   "language": "python",
   "name": "python3"
  },
  "language_info": {
   "codemirror_mode": {
    "name": "ipython",
    "version": 3
   },
   "file_extension": ".py",
   "mimetype": "text/x-python",
   "name": "python",
   "nbconvert_exporter": "python",
   "pygments_lexer": "ipython3",
   "version": "3.9.13"
  }
 },
 "nbformat": 4,
 "nbformat_minor": 5
}
