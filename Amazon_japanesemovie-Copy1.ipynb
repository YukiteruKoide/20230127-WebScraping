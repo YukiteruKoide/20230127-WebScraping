{
 "cells": [
  {
   "cell_type": "code",
   "execution_count": 1,
   "id": "1a6bdc1c",
   "metadata": {},
   "outputs": [
    {
     "name": "stdout",
     "output_type": "stream",
     "text": [
      "Requirement already satisfied: requests in /Users/koideyukiteru/opt/anaconda3/lib/python3.9/site-packages (2.28.1)\n",
      "Requirement already satisfied: idna<4,>=2.5 in /Users/koideyukiteru/opt/anaconda3/lib/python3.9/site-packages (from requests) (3.3)\n",
      "Requirement already satisfied: charset-normalizer<3,>=2 in /Users/koideyukiteru/opt/anaconda3/lib/python3.9/site-packages (from requests) (2.0.4)\n",
      "Requirement already satisfied: certifi>=2017.4.17 in /Users/koideyukiteru/opt/anaconda3/lib/python3.9/site-packages (from requests) (2022.9.24)\n",
      "Requirement already satisfied: urllib3<1.27,>=1.21.1 in /Users/koideyukiteru/opt/anaconda3/lib/python3.9/site-packages (from requests) (1.26.11)\n",
      "Note: you may need to restart the kernel to use updated packages.\n"
     ]
    }
   ],
   "source": [
    "pip install requests"
   ]
  },
  {
   "cell_type": "code",
   "execution_count": 2,
   "id": "e3913e3f",
   "metadata": {},
   "outputs": [],
   "source": [
    "#ライブラリのインポート\n",
    "from time import sleep\n",
    "import requests\n",
    "from bs4 import BeautifulSoup\n",
    "import pandas as pd"
   ]
  },
  {
   "cell_type": "code",
   "execution_count": 3,
   "id": "1a16193e",
   "metadata": {},
   "outputs": [],
   "source": [
    "# 変数urlにスクレイピングしたいURLを格納する\n",
    "url = 'https://doga.hikakujoho.com/amazon/foreignmovie/?page={}'\n",
    "\n",
    "#変数outputに空のリストを作成する\n",
    "output = []\n",
    "\n",
    "#現在のurlを表示\n",
    "#print(url)"
   ]
  },
  {
   "cell_type": "code",
   "execution_count": 4,
   "id": "dc53db20",
   "metadata": {},
   "outputs": [
    {
     "name": "stdout",
     "output_type": "stream",
     "text": [
      "https://doga.hikakujoho.com/amazon/foreignmovie/?page=1\n",
      "https://doga.hikakujoho.com/amazon/foreignmovie/?page=2\n",
      "https://doga.hikakujoho.com/amazon/foreignmovie/?page=3\n",
      "https://doga.hikakujoho.com/amazon/foreignmovie/?page=4\n",
      "https://doga.hikakujoho.com/amazon/foreignmovie/?page=5\n",
      "https://doga.hikakujoho.com/amazon/foreignmovie/?page=6\n",
      "https://doga.hikakujoho.com/amazon/foreignmovie/?page=7\n",
      "https://doga.hikakujoho.com/amazon/foreignmovie/?page=8\n",
      "https://doga.hikakujoho.com/amazon/foreignmovie/?page=9\n",
      "https://doga.hikakujoho.com/amazon/foreignmovie/?page=10\n",
      "https://doga.hikakujoho.com/amazon/foreignmovie/?page=11\n",
      "https://doga.hikakujoho.com/amazon/foreignmovie/?page=12\n",
      "https://doga.hikakujoho.com/amazon/foreignmovie/?page=13\n",
      "https://doga.hikakujoho.com/amazon/foreignmovie/?page=14\n",
      "https://doga.hikakujoho.com/amazon/foreignmovie/?page=15\n",
      "https://doga.hikakujoho.com/amazon/foreignmovie/?page=16\n",
      "https://doga.hikakujoho.com/amazon/foreignmovie/?page=17\n",
      "https://doga.hikakujoho.com/amazon/foreignmovie/?page=18\n",
      "https://doga.hikakujoho.com/amazon/foreignmovie/?page=19\n",
      "https://doga.hikakujoho.com/amazon/foreignmovie/?page=20\n",
      "https://doga.hikakujoho.com/amazon/foreignmovie/?page=21\n",
      "https://doga.hikakujoho.com/amazon/foreignmovie/?page=22\n",
      "https://doga.hikakujoho.com/amazon/foreignmovie/?page=23\n",
      "https://doga.hikakujoho.com/amazon/foreignmovie/?page=24\n",
      "https://doga.hikakujoho.com/amazon/foreignmovie/?page=25\n",
      "https://doga.hikakujoho.com/amazon/foreignmovie/?page=26\n",
      "https://doga.hikakujoho.com/amazon/foreignmovie/?page=27\n",
      "https://doga.hikakujoho.com/amazon/foreignmovie/?page=28\n",
      "https://doga.hikakujoho.com/amazon/foreignmovie/?page=29\n",
      "https://doga.hikakujoho.com/amazon/foreignmovie/?page=30\n",
      "https://doga.hikakujoho.com/amazon/foreignmovie/?page=31\n",
      "https://doga.hikakujoho.com/amazon/foreignmovie/?page=32\n",
      "https://doga.hikakujoho.com/amazon/foreignmovie/?page=33\n",
      "https://doga.hikakujoho.com/amazon/foreignmovie/?page=34\n",
      "https://doga.hikakujoho.com/amazon/foreignmovie/?page=35\n",
      "https://doga.hikakujoho.com/amazon/foreignmovie/?page=36\n",
      "https://doga.hikakujoho.com/amazon/foreignmovie/?page=37\n",
      "https://doga.hikakujoho.com/amazon/foreignmovie/?page=38\n",
      "https://doga.hikakujoho.com/amazon/foreignmovie/?page=39\n",
      "https://doga.hikakujoho.com/amazon/foreignmovie/?page=40\n",
      "https://doga.hikakujoho.com/amazon/foreignmovie/?page=41\n",
      "https://doga.hikakujoho.com/amazon/foreignmovie/?page=42\n",
      "https://doga.hikakujoho.com/amazon/foreignmovie/?page=43\n",
      "https://doga.hikakujoho.com/amazon/foreignmovie/?page=44\n",
      "https://doga.hikakujoho.com/amazon/foreignmovie/?page=45\n",
      "https://doga.hikakujoho.com/amazon/foreignmovie/?page=46\n",
      "https://doga.hikakujoho.com/amazon/foreignmovie/?page=47\n",
      "https://doga.hikakujoho.com/amazon/foreignmovie/?page=48\n",
      "https://doga.hikakujoho.com/amazon/foreignmovie/?page=49\n",
      "https://doga.hikakujoho.com/amazon/foreignmovie/?page=50\n",
      "https://doga.hikakujoho.com/amazon/foreignmovie/?page=51\n",
      "https://doga.hikakujoho.com/amazon/foreignmovie/?page=52\n",
      "https://doga.hikakujoho.com/amazon/foreignmovie/?page=53\n",
      "https://doga.hikakujoho.com/amazon/foreignmovie/?page=54\n",
      "https://doga.hikakujoho.com/amazon/foreignmovie/?page=55\n",
      "https://doga.hikakujoho.com/amazon/foreignmovie/?page=56\n",
      "https://doga.hikakujoho.com/amazon/foreignmovie/?page=57\n",
      "https://doga.hikakujoho.com/amazon/foreignmovie/?page=58\n",
      "https://doga.hikakujoho.com/amazon/foreignmovie/?page=59\n",
      "https://doga.hikakujoho.com/amazon/foreignmovie/?page=60\n",
      "https://doga.hikakujoho.com/amazon/foreignmovie/?page=61\n",
      "https://doga.hikakujoho.com/amazon/foreignmovie/?page=62\n",
      "https://doga.hikakujoho.com/amazon/foreignmovie/?page=63\n",
      "https://doga.hikakujoho.com/amazon/foreignmovie/?page=64\n",
      "https://doga.hikakujoho.com/amazon/foreignmovie/?page=65\n",
      "https://doga.hikakujoho.com/amazon/foreignmovie/?page=66\n",
      "https://doga.hikakujoho.com/amazon/foreignmovie/?page=67\n",
      "https://doga.hikakujoho.com/amazon/foreignmovie/?page=68\n",
      "https://doga.hikakujoho.com/amazon/foreignmovie/?page=69\n",
      "https://doga.hikakujoho.com/amazon/foreignmovie/?page=70\n",
      "https://doga.hikakujoho.com/amazon/foreignmovie/?page=71\n",
      "https://doga.hikakujoho.com/amazon/foreignmovie/?page=72\n",
      "https://doga.hikakujoho.com/amazon/foreignmovie/?page=73\n",
      "https://doga.hikakujoho.com/amazon/foreignmovie/?page=74\n",
      "https://doga.hikakujoho.com/amazon/foreignmovie/?page=75\n",
      "https://doga.hikakujoho.com/amazon/foreignmovie/?page=76\n",
      "https://doga.hikakujoho.com/amazon/foreignmovie/?page=77\n",
      "https://doga.hikakujoho.com/amazon/foreignmovie/?page=78\n",
      "https://doga.hikakujoho.com/amazon/foreignmovie/?page=79\n",
      "https://doga.hikakujoho.com/amazon/foreignmovie/?page=80\n",
      "https://doga.hikakujoho.com/amazon/foreignmovie/?page=81\n",
      "https://doga.hikakujoho.com/amazon/foreignmovie/?page=82\n",
      "https://doga.hikakujoho.com/amazon/foreignmovie/?page=83\n",
      "https://doga.hikakujoho.com/amazon/foreignmovie/?page=84\n",
      "https://doga.hikakujoho.com/amazon/foreignmovie/?page=85\n",
      "https://doga.hikakujoho.com/amazon/foreignmovie/?page=86\n",
      "https://doga.hikakujoho.com/amazon/foreignmovie/?page=87\n",
      "https://doga.hikakujoho.com/amazon/foreignmovie/?page=88\n",
      "https://doga.hikakujoho.com/amazon/foreignmovie/?page=89\n",
      "https://doga.hikakujoho.com/amazon/foreignmovie/?page=90\n",
      "https://doga.hikakujoho.com/amazon/foreignmovie/?page=91\n",
      "https://doga.hikakujoho.com/amazon/foreignmovie/?page=92\n",
      "https://doga.hikakujoho.com/amazon/foreignmovie/?page=93\n",
      "https://doga.hikakujoho.com/amazon/foreignmovie/?page=94\n",
      "https://doga.hikakujoho.com/amazon/foreignmovie/?page=95\n",
      "https://doga.hikakujoho.com/amazon/foreignmovie/?page=96\n",
      "https://doga.hikakujoho.com/amazon/foreignmovie/?page=97\n",
      "https://doga.hikakujoho.com/amazon/foreignmovie/?page=98\n",
      "https://doga.hikakujoho.com/amazon/foreignmovie/?page=99\n",
      "https://doga.hikakujoho.com/amazon/foreignmovie/?page=100\n",
      "https://doga.hikakujoho.com/amazon/foreignmovie/?page=101\n",
      "https://doga.hikakujoho.com/amazon/foreignmovie/?page=102\n",
      "https://doga.hikakujoho.com/amazon/foreignmovie/?page=103\n",
      "https://doga.hikakujoho.com/amazon/foreignmovie/?page=104\n",
      "https://doga.hikakujoho.com/amazon/foreignmovie/?page=105\n",
      "https://doga.hikakujoho.com/amazon/foreignmovie/?page=106\n"
     ]
    }
   ],
   "source": [
    "#ループさせる\n",
    "for i in range(1,107):\n",
    "    \n",
    "    #ループさせるために、target_urlの作成\n",
    "    target_url = url.format(i)\n",
    "\n",
    "    #dlistの長さを確認\n",
    "   # print(\"outputの大きさ:\",len(output))\n",
    "    \n",
    "    #print()をしてtarget_urlを確かめる\n",
    "    print(target_url)\n",
    " \n",
    "\n",
    "    ##ここから実装が必要\n",
    "    #ループさせるために、target_urlの作成\n",
    "\n",
    "    #HTMLを取得\n",
    "    res = requests.get(target_url)\n",
    "    \n",
    "    #スリープの実装\n",
    "    sleep(2)\n",
    "\n",
    "    #取得したHTMLを'BeautifulSoup'で解析\n",
    "    soup = BeautifulSoup(res.text, 'html.parser')\n",
    "\n",
    "    list_show_update = soup.find('ul',class_='list_show_update')\n",
    "\n",
    "    span_tag = list_show_update.find_all('span',class_='fwb')\n",
    "\n",
    "    span_strings = [x.string for x in span_tag]\n",
    "\n",
    "    output.append(span_strings)\n",
    "    \n",
    "    #print(output)\n",
    "    "
   ]
  },
  {
   "cell_type": "code",
   "execution_count": 5,
   "id": "ed3886c6",
   "metadata": {},
   "outputs": [],
   "source": [
    "#output[:2]"
   ]
  },
  {
   "cell_type": "code",
   "execution_count": 6,
   "id": "c516188f",
   "metadata": {},
   "outputs": [],
   "source": [
    "##データフレームを作成する\n",
    "df=pd.DataFrame(output)\n",
    "\n",
    "#中身の確認\n",
    "#df.head()"
   ]
  },
  {
   "cell_type": "code",
   "execution_count": 7,
   "id": "39c786a0",
   "metadata": {},
   "outputs": [],
   "source": [
    "##to_csvを使用してcsv出力する\n",
    "df.to_csv('05_Amazon_洋画.csv' ,encoding = 'utf-8-sig')"
   ]
  },
  {
   "cell_type": "code",
   "execution_count": null,
   "id": "d058b227",
   "metadata": {},
   "outputs": [],
   "source": []
  },
  {
   "cell_type": "code",
   "execution_count": null,
   "id": "d0387394",
   "metadata": {},
   "outputs": [],
   "source": []
  }
 ],
 "metadata": {
  "kernelspec": {
   "display_name": "Python 3 (ipykernel)",
   "language": "python",
   "name": "python3"
  },
  "language_info": {
   "codemirror_mode": {
    "name": "ipython",
    "version": 3
   },
   "file_extension": ".py",
   "mimetype": "text/x-python",
   "name": "python",
   "nbconvert_exporter": "python",
   "pygments_lexer": "ipython3",
   "version": "3.9.13"
  }
 },
 "nbformat": 4,
 "nbformat_minor": 5
}
