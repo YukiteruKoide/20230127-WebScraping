{
 "cells": [
  {
   "cell_type": "code",
   "execution_count": 1,
   "id": "1a6bdc1c",
   "metadata": {},
   "outputs": [
    {
     "name": "stdout",
     "output_type": "stream",
     "text": [
      "Requirement already satisfied: requests in /Users/koideyukiteru/opt/anaconda3/lib/python3.9/site-packages (2.28.1)\n",
      "Requirement already satisfied: idna<4,>=2.5 in /Users/koideyukiteru/opt/anaconda3/lib/python3.9/site-packages (from requests) (3.3)\n",
      "Requirement already satisfied: urllib3<1.27,>=1.21.1 in /Users/koideyukiteru/opt/anaconda3/lib/python3.9/site-packages (from requests) (1.26.11)\n",
      "Requirement already satisfied: charset-normalizer<3,>=2 in /Users/koideyukiteru/opt/anaconda3/lib/python3.9/site-packages (from requests) (2.0.4)\n",
      "Requirement already satisfied: certifi>=2017.4.17 in /Users/koideyukiteru/opt/anaconda3/lib/python3.9/site-packages (from requests) (2022.9.24)\n",
      "Note: you may need to restart the kernel to use updated packages.\n"
     ]
    }
   ],
   "source": [
    "pip install requests"
   ]
  },
  {
   "cell_type": "code",
   "execution_count": 2,
   "id": "e3913e3f",
   "metadata": {},
   "outputs": [],
   "source": [
    "#ライブラリのインポート\n",
    "from time import sleep\n",
    "import requests\n",
    "from bs4 import BeautifulSoup\n",
    "import pandas as pd"
   ]
  },
  {
   "cell_type": "code",
   "execution_count": 3,
   "id": "1a16193e",
   "metadata": {},
   "outputs": [],
   "source": [
    "# 変数urlにスクレイピングしたいURLを格納する\n",
    "url = 'https://doga.hikakujoho.com/amazon/japanesemovie/?page={}'\n",
    "\n",
    "#変数outputに空のリストを作成する\n",
    "output = []\n",
    "\n",
    "#現在のurlを表示\n",
    "#print(url)"
   ]
  },
  {
   "cell_type": "code",
   "execution_count": 4,
   "id": "dc53db20",
   "metadata": {},
   "outputs": [
    {
     "name": "stdout",
     "output_type": "stream",
     "text": [
      "https://doga.hikakujoho.com/amazon/japanesemovie/?page=1\n",
      "https://doga.hikakujoho.com/amazon/japanesemovie/?page=2\n",
      "https://doga.hikakujoho.com/amazon/japanesemovie/?page=3\n",
      "https://doga.hikakujoho.com/amazon/japanesemovie/?page=4\n",
      "https://doga.hikakujoho.com/amazon/japanesemovie/?page=5\n",
      "https://doga.hikakujoho.com/amazon/japanesemovie/?page=6\n",
      "https://doga.hikakujoho.com/amazon/japanesemovie/?page=7\n",
      "https://doga.hikakujoho.com/amazon/japanesemovie/?page=8\n",
      "https://doga.hikakujoho.com/amazon/japanesemovie/?page=9\n",
      "https://doga.hikakujoho.com/amazon/japanesemovie/?page=10\n",
      "https://doga.hikakujoho.com/amazon/japanesemovie/?page=11\n",
      "https://doga.hikakujoho.com/amazon/japanesemovie/?page=12\n",
      "https://doga.hikakujoho.com/amazon/japanesemovie/?page=13\n",
      "https://doga.hikakujoho.com/amazon/japanesemovie/?page=14\n",
      "https://doga.hikakujoho.com/amazon/japanesemovie/?page=15\n",
      "https://doga.hikakujoho.com/amazon/japanesemovie/?page=16\n",
      "https://doga.hikakujoho.com/amazon/japanesemovie/?page=17\n",
      "https://doga.hikakujoho.com/amazon/japanesemovie/?page=18\n",
      "https://doga.hikakujoho.com/amazon/japanesemovie/?page=19\n",
      "https://doga.hikakujoho.com/amazon/japanesemovie/?page=20\n",
      "https://doga.hikakujoho.com/amazon/japanesemovie/?page=21\n",
      "https://doga.hikakujoho.com/amazon/japanesemovie/?page=22\n",
      "https://doga.hikakujoho.com/amazon/japanesemovie/?page=23\n",
      "https://doga.hikakujoho.com/amazon/japanesemovie/?page=24\n",
      "https://doga.hikakujoho.com/amazon/japanesemovie/?page=25\n",
      "https://doga.hikakujoho.com/amazon/japanesemovie/?page=26\n",
      "https://doga.hikakujoho.com/amazon/japanesemovie/?page=27\n",
      "https://doga.hikakujoho.com/amazon/japanesemovie/?page=28\n",
      "https://doga.hikakujoho.com/amazon/japanesemovie/?page=29\n",
      "https://doga.hikakujoho.com/amazon/japanesemovie/?page=30\n",
      "https://doga.hikakujoho.com/amazon/japanesemovie/?page=31\n",
      "https://doga.hikakujoho.com/amazon/japanesemovie/?page=32\n",
      "https://doga.hikakujoho.com/amazon/japanesemovie/?page=33\n",
      "https://doga.hikakujoho.com/amazon/japanesemovie/?page=34\n",
      "https://doga.hikakujoho.com/amazon/japanesemovie/?page=35\n",
      "https://doga.hikakujoho.com/amazon/japanesemovie/?page=36\n",
      "https://doga.hikakujoho.com/amazon/japanesemovie/?page=37\n",
      "https://doga.hikakujoho.com/amazon/japanesemovie/?page=38\n",
      "https://doga.hikakujoho.com/amazon/japanesemovie/?page=39\n",
      "https://doga.hikakujoho.com/amazon/japanesemovie/?page=40\n",
      "https://doga.hikakujoho.com/amazon/japanesemovie/?page=41\n",
      "https://doga.hikakujoho.com/amazon/japanesemovie/?page=42\n",
      "https://doga.hikakujoho.com/amazon/japanesemovie/?page=43\n",
      "https://doga.hikakujoho.com/amazon/japanesemovie/?page=44\n",
      "https://doga.hikakujoho.com/amazon/japanesemovie/?page=45\n",
      "https://doga.hikakujoho.com/amazon/japanesemovie/?page=46\n",
      "https://doga.hikakujoho.com/amazon/japanesemovie/?page=47\n",
      "https://doga.hikakujoho.com/amazon/japanesemovie/?page=48\n",
      "https://doga.hikakujoho.com/amazon/japanesemovie/?page=49\n",
      "https://doga.hikakujoho.com/amazon/japanesemovie/?page=50\n",
      "https://doga.hikakujoho.com/amazon/japanesemovie/?page=51\n",
      "https://doga.hikakujoho.com/amazon/japanesemovie/?page=52\n",
      "https://doga.hikakujoho.com/amazon/japanesemovie/?page=53\n",
      "https://doga.hikakujoho.com/amazon/japanesemovie/?page=54\n",
      "https://doga.hikakujoho.com/amazon/japanesemovie/?page=55\n",
      "https://doga.hikakujoho.com/amazon/japanesemovie/?page=56\n",
      "https://doga.hikakujoho.com/amazon/japanesemovie/?page=57\n",
      "https://doga.hikakujoho.com/amazon/japanesemovie/?page=58\n",
      "https://doga.hikakujoho.com/amazon/japanesemovie/?page=59\n",
      "https://doga.hikakujoho.com/amazon/japanesemovie/?page=60\n",
      "https://doga.hikakujoho.com/amazon/japanesemovie/?page=61\n",
      "https://doga.hikakujoho.com/amazon/japanesemovie/?page=62\n",
      "https://doga.hikakujoho.com/amazon/japanesemovie/?page=63\n",
      "https://doga.hikakujoho.com/amazon/japanesemovie/?page=64\n",
      "https://doga.hikakujoho.com/amazon/japanesemovie/?page=65\n",
      "https://doga.hikakujoho.com/amazon/japanesemovie/?page=66\n",
      "https://doga.hikakujoho.com/amazon/japanesemovie/?page=67\n"
     ]
    }
   ],
   "source": [
    "#ループさせる\n",
    "for i in range(1,68):\n",
    "    \n",
    "    #ループさせるために、target_urlの作成\n",
    "    target_url = url.format(i)\n",
    "\n",
    "    #dlistの長さを確認\n",
    "   # print(\"outputの大きさ:\",len(output))\n",
    "    \n",
    "    #print()をしてtarget_urlを確かめる\n",
    "    print(target_url)\n",
    " \n",
    "\n",
    "    ##ここから実装が必要\n",
    "    #ループさせるために、target_urlの作成\n",
    "\n",
    "    #HTMLを取得\n",
    "    res = requests.get(target_url)\n",
    "    \n",
    "    #スリープの実装\n",
    "    sleep(2)\n",
    "\n",
    "    #取得したHTMLを'BeautifulSoup'で解析\n",
    "    soup = BeautifulSoup(res.text, 'html.parser')\n",
    "\n",
    "    list_show_update = soup.find('ul',class_='list_show_update')\n",
    "\n",
    "    span_tag = list_show_update.find_all('span',class_='fwb')\n",
    "\n",
    "    span_strings = [x.string for x in span_tag]\n",
    "\n",
    "    output.append(span_strings)\n",
    "    \n",
    "    #print(output)\n",
    "    "
   ]
  },
  {
   "cell_type": "code",
   "execution_count": 5,
   "id": "ed3886c6",
   "metadata": {},
   "outputs": [],
   "source": [
    "#output[:2]"
   ]
  },
  {
   "cell_type": "code",
   "execution_count": 6,
   "id": "c516188f",
   "metadata": {},
   "outputs": [],
   "source": [
    "##データフレームを作成する\n",
    "df=pd.DataFrame(output)\n",
    "\n",
    "#中身の確認\n",
    "#df.head()"
   ]
  },
  {
   "cell_type": "code",
   "execution_count": 7,
   "id": "39c786a0",
   "metadata": {},
   "outputs": [],
   "source": [
    "##to_csvを使用してcsv出力する\n",
    "df.to_csv('04_Amazon_邦画.csv' ,encoding = 'utf-8-sig')"
   ]
  },
  {
   "cell_type": "code",
   "execution_count": null,
   "id": "d058b227",
   "metadata": {},
   "outputs": [],
   "source": []
  },
  {
   "cell_type": "code",
   "execution_count": null,
   "id": "d0387394",
   "metadata": {},
   "outputs": [],
   "source": []
  }
 ],
 "metadata": {
  "kernelspec": {
   "display_name": "Python 3 (ipykernel)",
   "language": "python",
   "name": "python3"
  },
  "language_info": {
   "codemirror_mode": {
    "name": "ipython",
    "version": 3
   },
   "file_extension": ".py",
   "mimetype": "text/x-python",
   "name": "python",
   "nbconvert_exporter": "python",
   "pygments_lexer": "ipython3",
   "version": "3.9.13"
  }
 },
 "nbformat": 4,
 "nbformat_minor": 5
}
