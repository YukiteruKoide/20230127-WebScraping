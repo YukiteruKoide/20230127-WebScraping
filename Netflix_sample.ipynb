{
 "cells": [
  {
   "cell_type": "code",
   "execution_count": 2,
   "metadata": {},
   "outputs": [
    {
     "name": "stdout",
     "output_type": "stream",
     "text": [
      "Requirement already satisfied: requests in /opt/anaconda3/lib/python3.7/site-packages (2.22.0)\n",
      "Requirement already satisfied: idna<2.9,>=2.5 in /opt/anaconda3/lib/python3.7/site-packages (from requests) (2.8)\n",
      "Requirement already satisfied: certifi>=2017.4.17 in /opt/anaconda3/lib/python3.7/site-packages (from requests) (2019.9.11)\n",
      "Requirement already satisfied: chardet<3.1.0,>=3.0.2 in /opt/anaconda3/lib/python3.7/site-packages (from requests) (3.0.4)\n",
      "Requirement already satisfied: urllib3!=1.25.0,!=1.25.1,<1.26,>=1.21.1 in /opt/anaconda3/lib/python3.7/site-packages (from requests) (1.24.2)\n",
      "Note: you may need to restart the kernel to use updated packages.\n"
     ]
    }
   ],
   "source": [
    "pip install requests"
   ]
  },
  {
   "cell_type": "code",
   "execution_count": 1,
   "metadata": {},
   "outputs": [],
   "source": [
    "#ライブラリのインポート\n",
    "from time import sleep\n",
    "import requests\n",
    "from bs4 import BeautifulSoup"
   ]
  },
  {
   "cell_type": "code",
   "execution_count": 38,
   "metadata": {},
   "outputs": [
    {
     "name": "stdout",
     "output_type": "stream",
     "text": [
      "https://doga.hikakujoho.com/netflix/anime/?page=2\n"
     ]
    }
   ],
   "source": [
    "# 変数urlにスクレイピングしたいURLを格納する\n",
    "url = 'https://doga.hikakujoho.com/netflix/anime/?page={}'\n",
    "\n",
    "#変数d_listに空のリストを作成する\n",
    "d_list = []\n",
    "\n",
    "#現在のtarget_urlを表示\n",
    "print(target_url)"
   ]
  },
  {
   "cell_type": "code",
   "execution_count": 39,
   "metadata": {},
   "outputs": [
    {
     "name": "stdout",
     "output_type": "stream",
     "text": [
      "d_listの大きさ: 0\n",
      "https://doga.hikakujoho.com/netflix/anime/?page=1\n",
      "d_listの大きさ: 0\n",
      "https://doga.hikakujoho.com/netflix/anime/?page=2\n"
     ]
    },
    {
     "data": {
      "text/plain": [
       "\"\\n    #HTMLを取得\\n    res = requests.get(target_url)\\n    \\n    #スリープを入れる\\n    sleep(1)\\n    \\n    \\n\\n    #取得したHTMLを'BeautifulSoup'で解析\\n    soup = BeautifulSoup(res.text, 'html.parser')\\n\\n    list_show_update = soup.find('ul',class_='list_show_update')\\n\\n    span_tag = list_show_update.find_all('span',class_='fwb')\\n\\n    span_strings = [x.string for x in span_tag]\\n    \\n    print(span_strings)\\n    \\n\""
      ]
     },
     "execution_count": 39,
     "metadata": {},
     "output_type": "execute_result"
    }
   ],
   "source": [
    "#ループさせる\n",
    "for i in range(1,3):\n",
    "    \n",
    "    #ループさせるために、target_urlの作成\n",
    "    target_url = url.format(i)\n",
    "\n",
    "    #dlistの長さを確認\n",
    "    print(\"d_listの大きさ:\",len(d_list))\n",
    "    \n",
    "    #print()をしてtarget_urlを確かめる\n",
    "    print(target_url)\n",
    " \n",
    "'''\n",
    "    #HTMLを取得\n",
    "    res = requests.get(target_url)\n",
    "    \n",
    "    #スリープを入れる\n",
    "    sleep(1)\n",
    "    \n",
    "    \n",
    "\n",
    "    #取得したHTMLを'BeautifulSoup'で解析\n",
    "    soup = BeautifulSoup(res.text, 'html.parser')\n",
    "\n",
    "    list_show_update = soup.find('ul',class_='list_show_update')\n",
    "\n",
    "    span_tag = list_show_update.find_all('span',class_='fwb')\n",
    "\n",
    "    span_strings = [x.string for x in span_tag]\n",
    "    \n",
    "    print(span_strings)\n",
    "    \n",
    "'''"
   ]
  },
  {
   "cell_type": "code",
   "execution_count": null,
   "metadata": {},
   "outputs": [],
   "source": [
    "#取得したHTMLを表示\n",
    "#print(res.text)"
   ]
  },
  {
   "cell_type": "code",
   "execution_count": 13,
   "metadata": {},
   "outputs": [],
   "source": [
    "#Beautiful Soup\n",
    "#pip install beautifulsoup4\n",
    "#エラー"
   ]
  },
  {
   "cell_type": "code",
   "execution_count": 24,
   "metadata": {},
   "outputs": [
    {
     "name": "stdout",
     "output_type": "stream",
     "text": [
      "['ブーバ シーズン4', 'カンフー・パンダ: 龍の戦士たち シーズン2', 'ブラウン&フレンズ', 'シンデレラ・シェフ 〜萌妻食神〜 シーズン3', 'シンデレラ・シェフ 〜萌妻食神〜 シーズン2', 'シンデレラ・シェフ 〜萌妻食神〜 シーズン1', 'ダイアンねえさんは今日もイケイケ パート2', 'レゴ(R)ニンジャゴー シーズン1 - Secrets of Forbidden Spinjitzu', 'ブリッピーのふしぎがいっぱい シーズン2', 'パラダイス警察 パート4', 'ヴァイオレット・エヴァーガーデン 総集編', 'ドラゴンエイジ: 罪のあがない', 'クリスマスだよ！ボス・ベイビー', 'マイティ・エクスプレス: たいけつ！トレインレース', 'マイリトルポニー: キューティマークに夢のせて シーズン3', 'REVENGER', '魔王学院の不適合者 〜史上最強の魔王の始祖、転生して子孫たちの学校へ通う〜 II', 'ツルネ ―つながりの一射―', 'ソニックプライム', '氷属性男子とクールな同僚女子', 'ぐでたま 〜母をたずねてどんくらい〜', '虚構推理 Season2', '吸血鬼すぐ死ぬ2', 'お隣の天使様にいつの間にか駄目人間にされていた件', 'ヴィンランド・サガ SEASON2', '伊藤潤二『マニアック』', 'Barbie: It Takes Two シーズン2', 'こちら、どうぶつたんていきょく シリーズ2', 'ストーリーボットがこたえるよ', 'ザ・カップヘッド・ショウ！シーズン3', '陰謀論のオシゴト パート2', 'ジュラシック・ワールド/サバイバル・キャンプ: 秘密の冒険', 'ディーパとアヌープ シーズン2', 'ドラゴン王子 シーズン4', 'ギャビーのドールハウス シーズン6', 'マイリトルポニー: キューティマークに夢のせて シーズン2', 'ポロロとおとぎ話の国', 'ロボカーポリー: あんぜんシリーズ Robocar POLI Safety シリーズ', 'ビッグマウス シーズン6', 'マジックハンター: ダニエル・スペルバウンド', 'リトルエンジェル', 'デッド・エンド: ようこそ！ オカルト遊園地へ シーズン2', 'エクセプション', 'マイリトルポニー: キューティマークに夢のせて', 'オッドボールズ', 'スピリット・レンジャーズ 〜森のおたすけ隊〜', 'ONI 〜 神々山のおなり', '外見至上主義', 'チップとポテト シーズン4', '金色のガッシュベル!! 第3部', '金色のガッシュベル!! 第2部', 'キッド・カディ: Entergalactic', 'レゴ(R)ニンジャゴー シーズン4 Part 2', 'メカアマト', '魔入りました!入間くん 第3シリーズ', 'カルマのラップ・ワールド シーズン4', 'Cry Babies Magic Tears シーズン2', '痛いのは嫌なので防御力に極振りしたいと思います。2', 'それいけ、わんちゃん! シーズン3', 'おさるのジョージ シーズン13', 'スペースドギーズ シーズン2', 'サイバーパンク: エッジランナーズ', 'せかいは ふしぎで できている！ シーズン3', 'おしりたんてい:第1期', 'おしりたんてい:第2期', 'おしりたんてい:第3期', 'おしりたんてい:第4期', 'ビーとパピーキャット', 'ロマンティック・キラー', '弱虫ペダル LIMIT BREAK 第5期', '名探偵コナン 犯人の犯沢さん', 'ぼっち・ざ・ろっく！', '僕のヒーローアカデミア 第6期', 'ベルセルク 黄金時代篇 MEMORIAL EDITION(アニメ)', 'ブルーロック', 'BLEACH 千年血戦篇', '不滅のあなたへ Season2', 'リック・アンド・モーティ シーズン6', 'ココメロン 〜うたってまなぼう〜 シーズン6', 'チェンソーマン', '後宮の烏', 'うる星やつら(2022)', '機動戦士ガンダム 水星の魔女', 'ブラッククローバー 4', 'ブラッククローバー 3', 'リラックマと遊園地 シーズン1', 'アングリーバード: クレイジー・サマーキャンプ シーズン3', 'マイティ・エクスプレス シーズン7', 'リドリー・ジョーンズの冒険 シーズン4', 'Tekken: Bloodline', 'ザ・カップヘッド・ショウ！シーズン2', 'ディーパとアヌープ', 'DOTA: ドラゴンの血 シリーズ3', '文豪ストレイドッグス 第4クール', '超巨大ロボットブラザーズ', 'チーム ゼンコー ゴー シーズン2', 'ビッグツリー・シティ', 'オギー&コックローチ: ピヤと新しいぼうけん', 'バッド・エクソシスト シーズン2', 'バッド・エクソシスト シーズン1']\n"
     ]
    }
   ],
   "source": [
    "#取得したHTMLを'BeautifulSoup'で解析\n",
    "soup = BeautifulSoup(res.text, 'html.parser')\n",
    "\n",
    "list_show_update = soup.find('ul',class_='list_show_update')\n",
    "\n",
    "span_tag = list_show_update.find_all('span',class_='fwb')\n",
    "\n",
    "span_strings = [x.string for x in span_tag]\n",
    "\n",
    "print(span_strings)\n",
    "\n"
   ]
  },
  {
   "cell_type": "code",
   "execution_count": null,
   "metadata": {},
   "outputs": [],
   "source": []
  }
 ],
 "metadata": {
  "kernelspec": {
   "display_name": "Python 3 (ipykernel)",
   "language": "python",
   "name": "python3"
  },
  "language_info": {
   "codemirror_mode": {
    "name": "ipython",
    "version": 3
   },
   "file_extension": ".py",
   "mimetype": "text/x-python",
   "name": "python",
   "nbconvert_exporter": "python",
   "pygments_lexer": "ipython3",
   "version": "3.9.13"
  }
 },
 "nbformat": 4,
 "nbformat_minor": 2
}
